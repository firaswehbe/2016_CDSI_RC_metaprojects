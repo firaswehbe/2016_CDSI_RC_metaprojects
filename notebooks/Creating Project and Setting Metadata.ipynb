{
 "cells": [
  {
   "cell_type": "markdown",
   "metadata": {},
   "source": [
    "# Loading Credentials"
   ]
  },
  {
   "cell_type": "markdown",
   "metadata": {},
   "source": [
    "Needed libraries and base URL"
   ]
  },
  {
   "cell_type": "code",
   "execution_count": 1,
   "metadata": {
    "collapsed": true
   },
   "outputs": [],
   "source": [
    "import requests\n",
    "import json\n",
    "\n",
    "apiurl = 'https://redcap2.nubic.northwestern.edu/redcap/api/'"
   ]
  },
  {
   "cell_type": "markdown",
   "metadata": {},
   "source": [
    "Load supertoken 64 character for creating projects"
   ]
  },
  {
   "cell_type": "code",
   "execution_count": 2,
   "metadata": {
    "collapsed": false
   },
   "outputs": [],
   "source": [
    "fh = open('../tokens/supertoken.txt','r')\n",
    "supertoken = fh.read().strip()\n",
    "fh.close()"
   ]
  },
  {
   "cell_type": "markdown",
   "metadata": {},
   "source": [
    "Load tokens from existing projects and put them in an ordered list"
   ]
  },
  {
   "cell_type": "code",
   "execution_count": 10,
   "metadata": {
    "collapsed": false
   },
   "outputs": [
    {
     "data": {
      "text/plain": [
       "6"
      ]
     },
     "execution_count": 10,
     "metadata": {},
     "output_type": "execute_result"
    }
   ],
   "source": [
    "fh = open('../tokens/tokens.txt', 'r')\n",
    "tokens = []\n",
    "for x in fh:\n",
    "    tokens.append(x.strip())\n",
    "fh.close()\n",
    "len(tokens)"
   ]
  },
  {
   "cell_type": "markdown",
   "metadata": {},
   "source": [
    "# Creating A Project"
   ]
  },
  {
   "cell_type": "markdown",
   "metadata": {},
   "source": [
    "## Vanilla Project"
   ]
  },
  {
   "cell_type": "markdown",
   "metadata": {},
   "source": [
    "Use the `project` API method. You can call it in 3 different ways: (1) to create a project -- requires the 64 character super API token, (2) to retrieve project information, (3) to retrieve project ODM XML definition."
   ]
  },
  {
   "cell_type": "markdown",
   "metadata": {},
   "source": [
    "This is an example of usage `(1)` above"
   ]
  },
  {
   "cell_type": "code",
   "execution_count": 4,
   "metadata": {
    "collapsed": false
   },
   "outputs": [],
   "source": [
    "data = dict({\n",
    "    'content': 'project',\n",
    "    'token': supertoken,\n",
    "    'format': 'json',\n",
    "    'returnFormat': 'json',\n",
    "    'data': json.dumps([{'project_title':'hello world - template','purpose':'0'}])\n",
    "})"
   ]
  },
  {
   "cell_type": "code",
   "execution_count": 5,
   "metadata": {
    "collapsed": false
   },
   "outputs": [],
   "source": [
    "r = requests.post(apiurl,data=data)"
   ]
  },
  {
   "cell_type": "markdown",
   "metadata": {},
   "source": [
    "Append the token to the list of stored tokens"
   ]
  },
  {
   "cell_type": "code",
   "execution_count": 6,
   "metadata": {
    "collapsed": false
   },
   "outputs": [],
   "source": [
    "fh = open('../tokens/tokens.txt', 'a')\n",
    "fh.write(r.text + '\\n')\n",
    "fh.close()"
   ]
  },
  {
   "cell_type": "markdown",
   "metadata": {},
   "source": [
    "## From ODM XML"
   ]
  },
  {
   "cell_type": "code",
   "execution_count": null,
   "metadata": {
    "collapsed": true
   },
   "outputs": [],
   "source": []
  },
  {
   "cell_type": "markdown",
   "metadata": {},
   "source": [
    "# Inspecting a Project"
   ]
  },
  {
   "cell_type": "code",
   "execution_count": 22,
   "metadata": {
    "collapsed": false
   },
   "outputs": [],
   "source": [
    "mytoken = tokens[4]"
   ]
  },
  {
   "cell_type": "markdown",
   "metadata": {},
   "source": [
    "## Get the Project Attributes Using `project`"
   ]
  },
  {
   "cell_type": "code",
   "execution_count": 25,
   "metadata": {
    "collapsed": false
   },
   "outputs": [
    {
     "data": {
      "text/plain": [
       "'{\"project_id\":\"522\",\"project_title\":\"hello world - template\",\"creation_time\":\"2016-12-21 08:47:34\",\"production_time\":\"\",\"in_production\":\"0\",\"project_language\":\"English\",\"purpose\":\"0\",\"purpose_other\":\"\",\"project_notes\":\"\",\"custom_record_label\":\"\",\"secondary_unique_field\":\"\",\"is_longitudinal\":0,\"surveys_enabled\":\"0\",\"scheduling_enabled\":\"0\",\"record_autonumbering_enabled\":\"1\",\"randomization_enabled\":\"0\",\"ddp_enabled\":\"0\",\"project_irb_number\":\"\",\"project_grant_number\":\"\",\"project_pi_firstname\":\"\",\"project_pi_lastname\":\"\",\"display_today_now_button\":\"1\"}'"
      ]
     },
     "execution_count": 25,
     "metadata": {},
     "output_type": "execute_result"
    }
   ],
   "source": [
    "data = dict({\n",
    "    'content': 'project',\n",
    "    'token': mytoken,\n",
    "    'format': 'json',\n",
    "    'returnFormat': 'json',\n",
    "})\n",
    "\n",
    "r = requests.post(apiurl,data=data)\n",
    "r.text"
   ]
  },
  {
   "cell_type": "markdown",
   "metadata": {},
   "source": [
    "## Get the Project ODM XML Using `project_xml`"
   ]
  },
  {
   "cell_type": "code",
   "execution_count": 26,
   "metadata": {
    "collapsed": false
   },
   "outputs": [
    {
     "data": {
      "text/plain": [
       "'<?xml version=\"1.0\" encoding=\"UTF-8\" ?>\\n<ODM xmlns=\"http://www.cdisc.org/ns/odm/v1.3\" xmlns:ds=\"http://www.w3.org/2000/09/xmldsig#\" xmlns:xsi=\"http://www.w3.org/2001/XMLSchema-instance\" xmlns:redcap=\"http://projectredcap.org\" xsi:schemaLocation=\"http://www.cdisc.org/ns/odm/v1.3 schema/odm/ODM1-3-1.xsd\" ODMVersion=\"1.3.1\" FileOID=\"000-00-0000\" FileType=\"Snapshot\" Description=\"hello world - template\" AsOfDateTime=\"2016-12-21T09:47:20\" CreationDateTime=\"2016-12-21T09:47:20\" SourceSystem=\"REDCap\" SourceSystemVersion=\"6.15.9\">\\n<Study OID=\"Project.HelloWorldTemplate\">\\n<GlobalVariables>\\n\\t<StudyName>hello world - template</StudyName>\\n\\t<StudyDescription>This file contains the metadata, events, and data for REDCap project \"hello world - template\".</StudyDescription>\\n\\t<ProtocolName>hello world - template</ProtocolName>\\n\\t<redcap:RecordAutonumberingEnabled>1</redcap:RecordAutonumberingEnabled>\\n\\t<redcap:CustomRecordLabel></redcap:CustomRecordLabel>\\n\\t<redcap:SecondaryUniqueField></redcap:SecondaryUniqueField>\\n\\t<redcap:SchedulingEnabled>0</redcap:SchedulingEnabled>\\n\\t<redcap:Purpose>0</redcap:Purpose>\\n\\t<redcap:PurposeOther></redcap:PurposeOther>\\n\\t<redcap:ProjectNotes></redcap:ProjectNotes>\\n</GlobalVariables>\\n<MetaDataVersion OID=\"Metadata.HelloWorldTemplate_2016-12-21_0947\" Name=\"hello world - template\" redcap:RecordIdField=\"case_number\">\\n\\t<FormDef OID=\"Form.registration\" Name=\"Registration\" Repeating=\"No\" redcap:FormName=\"registration\">\\n\\t\\t<ItemGroupRef ItemGroupOID=\"registration.case_number\" Mandatory=\"No\"/>\\n\\t\\t<ItemGroupRef ItemGroupOID=\"registration.registration_complete\" Mandatory=\"No\"/>\\n\\t</FormDef>\\n\\t<FormDef OID=\"Form.econsent\" Name=\"econsent\" Repeating=\"No\" redcap:FormName=\"econsent\">\\n\\t\\t<ItemGroupRef ItemGroupOID=\"econsent.consent_date\" Mandatory=\"No\"/>\\n\\t</FormDef>\\n\\t<ItemGroupDef OID=\"registration.case_number\" Name=\"Registration\" Repeating=\"No\">\\n\\t\\t<ItemRef ItemOID=\"case_number\" Mandatory=\"No\" redcap:Variable=\"case_number\"/>\\n\\t\\t<ItemRef ItemOID=\"first_name\" Mandatory=\"No\" redcap:Variable=\"first_name\"/>\\n\\t\\t<ItemRef ItemOID=\"last_name\" Mandatory=\"No\" redcap:Variable=\"last_name\"/>\\n\\t\\t<ItemRef ItemOID=\"brthdat\" Mandatory=\"No\" redcap:Variable=\"brthdat\"/>\\n\\t\\t<ItemRef ItemOID=\"sex\" Mandatory=\"No\" redcap:Variable=\"sex\"/>\\n\\t\\t<ItemRef ItemOID=\"nmg_mrn\" Mandatory=\"No\" redcap:Variable=\"nmg_mrn\"/>\\n\\t\\t<ItemRef ItemOID=\"nmh_mrn\" Mandatory=\"No\" redcap:Variable=\"nmh_mrn\"/>\\n\\t\\t<ItemRef ItemOID=\"ethnic\" Mandatory=\"No\" redcap:Variable=\"ethnic\"/>\\n\\t\\t<ItemRef ItemOID=\"race___1\" Mandatory=\"No\" redcap:Variable=\"race\"/>\\n\\t\\t<ItemRef ItemOID=\"race___2\" Mandatory=\"No\" redcap:Variable=\"race\"/>\\n\\t\\t<ItemRef ItemOID=\"race___3\" Mandatory=\"No\" redcap:Variable=\"race\"/>\\n\\t\\t<ItemRef ItemOID=\"race___4\" Mandatory=\"No\" redcap:Variable=\"race\"/>\\n\\t\\t<ItemRef ItemOID=\"race___5\" Mandatory=\"No\" redcap:Variable=\"race\"/>\\n\\t\\t<ItemRef ItemOID=\"race___1\" Mandatory=\"No\" redcap:Variable=\"race\"/>\\n\\t\\t<ItemRef ItemOID=\"race___2\" Mandatory=\"No\" redcap:Variable=\"race\"/>\\n\\t\\t<ItemRef ItemOID=\"race___3\" Mandatory=\"No\" redcap:Variable=\"race\"/>\\n\\t\\t<ItemRef ItemOID=\"race___4\" Mandatory=\"No\" redcap:Variable=\"race\"/>\\n\\t\\t<ItemRef ItemOID=\"race___5\" Mandatory=\"No\" redcap:Variable=\"race\"/>\\n\\t\\t<ItemRef ItemOID=\"race___1\" Mandatory=\"No\" redcap:Variable=\"race\"/>\\n\\t\\t<ItemRef ItemOID=\"race___2\" Mandatory=\"No\" redcap:Variable=\"race\"/>\\n\\t\\t<ItemRef ItemOID=\"race___3\" Mandatory=\"No\" redcap:Variable=\"race\"/>\\n\\t\\t<ItemRef ItemOID=\"race___4\" Mandatory=\"No\" redcap:Variable=\"race\"/>\\n\\t\\t<ItemRef ItemOID=\"race___5\" Mandatory=\"No\" redcap:Variable=\"race\"/>\\n\\t\\t<ItemRef ItemOID=\"race___1\" Mandatory=\"No\" redcap:Variable=\"race\"/>\\n\\t\\t<ItemRef ItemOID=\"race___2\" Mandatory=\"No\" redcap:Variable=\"race\"/>\\n\\t\\t<ItemRef ItemOID=\"race___3\" Mandatory=\"No\" redcap:Variable=\"race\"/>\\n\\t\\t<ItemRef ItemOID=\"race___4\" Mandatory=\"No\" redcap:Variable=\"race\"/>\\n\\t\\t<ItemRef ItemOID=\"race___5\" Mandatory=\"No\" redcap:Variable=\"race\"/>\\n\\t\\t<ItemRef ItemOID=\"race___1\" Mandatory=\"No\" redcap:Variable=\"race\"/>\\n\\t\\t<ItemRef ItemOID=\"race___2\" Mandatory=\"No\" redcap:Variable=\"race\"/>\\n\\t\\t<ItemRef ItemOID=\"race___3\" Mandatory=\"No\" redcap:Variable=\"race\"/>\\n\\t\\t<ItemRef ItemOID=\"race___4\" Mandatory=\"No\" redcap:Variable=\"race\"/>\\n\\t\\t<ItemRef ItemOID=\"race___5\" Mandatory=\"No\" redcap:Variable=\"race\"/>\\n\\t\\t<ItemRef ItemOID=\"dmdat\" Mandatory=\"No\" redcap:Variable=\"dmdat\"/>\\n\\t</ItemGroupDef>\\n\\t<ItemGroupDef OID=\"registration.registration_complete\" Name=\"Form Status\" Repeating=\"No\">\\n\\t\\t<ItemRef ItemOID=\"registration_complete\" Mandatory=\"No\" redcap:Variable=\"registration_complete\"/>\\n\\t</ItemGroupDef>\\n\\t<ItemGroupDef OID=\"econsent.consent_date\" Name=\"econsent\" Repeating=\"No\">\\n\\t\\t<ItemRef ItemOID=\"consent_date\" Mandatory=\"Yes\" redcap:Variable=\"consent_date\"/>\\n\\t\\t<ItemRef ItemOID=\"consent_sig\" Mandatory=\"No\" redcap:Variable=\"consent_sig\"/>\\n\\t\\t<ItemRef ItemOID=\"consent_scan\" Mandatory=\"No\" redcap:Variable=\"consent_scan\"/>\\n\\t\\t<ItemRef ItemOID=\"consent_by\" Mandatory=\"No\" redcap:Variable=\"consent_by\"/>\\n\\t\\t<ItemRef ItemOID=\"econsent_complete\" Mandatory=\"No\" redcap:Variable=\"econsent_complete\"/>\\n\\t</ItemGroupDef>\\n\\t<ItemDef OID=\"case_number\" Name=\"case_number\" DataType=\"text\" Length=\"999\" redcap:Variable=\"case_number\" redcap:FieldType=\"text\">\\n\\t\\t<Question><TranslatedText>Case Number</TranslatedText></Question>\\n\\t</ItemDef>\\n\\t<ItemDef OID=\"first_name\" Name=\"first_name\" DataType=\"text\" Length=\"999\" redcap:Variable=\"first_name\" redcap:FieldType=\"text\" redcap:Identifier=\"y\">\\n\\t\\t<Question><TranslatedText>First Name</TranslatedText></Question>\\n\\t</ItemDef>\\n\\t<ItemDef OID=\"last_name\" Name=\"last_name\" DataType=\"text\" Length=\"999\" redcap:Variable=\"last_name\" redcap:FieldType=\"text\" redcap:Identifier=\"y\">\\n\\t\\t<Question><TranslatedText>Last Name</TranslatedText></Question>\\n\\t</ItemDef>\\n\\t<ItemDef OID=\"brthdat\" Name=\"brthdat\" DataType=\"date\" Length=\"999\" redcap:Variable=\"brthdat\" redcap:FieldType=\"text\" redcap:TextValidationType=\"date_dmy\" redcap:FieldNote=\"Record the date of birth using the DD-MM-YYYY format.\">\\n\\t\\t<Question><TranslatedText>What is the subject&#039;s date of birth?</TranslatedText></Question>\\n\\t</ItemDef>\\n\\t<ItemDef OID=\"sex\" Name=\"sex\" DataType=\"text\" Length=\"2\" redcap:Variable=\"sex\" redcap:FieldType=\"radio\" redcap:FieldNote=\"Record the appropriate sex. Collect the sex or gender, as reported by the subject or caretaker. Select one.\">\\n\\t\\t<Question><TranslatedText>What is the sex of the subject?</TranslatedText></Question>\\n\\t\\t<CodeListRef CodeListOID=\"sex.choices\"/>\\n\\t</ItemDef>\\n\\t<ItemDef OID=\"nmg_mrn\" Name=\"nmg_mrn\" DataType=\"integer\" Length=\"999\" redcap:Variable=\"nmg_mrn\" redcap:FieldType=\"text\" redcap:TextValidationType=\"int\" redcap:Identifier=\"y\">\\n\\t\\t<Question><TranslatedText>NMG MRN</TranslatedText></Question>\\n\\t</ItemDef>\\n\\t<ItemDef OID=\"nmh_mrn\" Name=\"nmh_mrn\" DataType=\"text\" Length=\"999\" redcap:Variable=\"nmh_mrn\" redcap:FieldType=\"text\" redcap:Identifier=\"y\">\\n\\t\\t<Question><TranslatedText>NMH MRN</TranslatedText></Question>\\n\\t</ItemDef>\\n\\t<ItemDef OID=\"ethnic\" Name=\"ethnic\" DataType=\"text\" Length=\"1\" redcap:Variable=\"ethnic\" redcap:FieldType=\"radio\" redcap:FieldNote=\"Study participants should self-report ethnicity, with ethnicity being asked about before race. Select one.\">\\n\\t\\t<Question><TranslatedText>What is the ethnicity of the subject?</TranslatedText></Question>\\n\\t\\t<CodeListRef CodeListOID=\"ethnic.choices\"/>\\n\\t</ItemDef>\\n\\t<ItemDef OID=\"race___1\" Name=\"race___1\" DataType=\"boolean\" Length=\"1\" redcap:Variable=\"race\" redcap:FieldType=\"checkbox\" redcap:FieldNote=\"Study participants should self-report race, with race being asked about after ethnicity. Check all that apply.\">\\n\\t\\t<Question><TranslatedText>What is the race of the subject?</TranslatedText></Question>\\n\\t\\t<CodeListRef CodeListOID=\"race___1.choices\"/>\\n\\t</ItemDef>\\n\\t<ItemDef OID=\"race___2\" Name=\"race___2\" DataType=\"boolean\" Length=\"1\" redcap:Variable=\"race\" redcap:FieldType=\"checkbox\" redcap:FieldNote=\"Study participants should self-report race, with race being asked about after ethnicity. Check all that apply.\">\\n\\t\\t<Question><TranslatedText>What is the race of the subject?</TranslatedText></Question>\\n\\t\\t<CodeListRef CodeListOID=\"race___2.choices\"/>\\n\\t</ItemDef>\\n\\t<ItemDef OID=\"race___3\" Name=\"race___3\" DataType=\"boolean\" Length=\"1\" redcap:Variable=\"race\" redcap:FieldType=\"checkbox\" redcap:FieldNote=\"Study participants should self-report race, with race being asked about after ethnicity. Check all that apply.\">\\n\\t\\t<Question><TranslatedText>What is the race of the subject?</TranslatedText></Question>\\n\\t\\t<CodeListRef CodeListOID=\"race___3.choices\"/>\\n\\t</ItemDef>\\n\\t<ItemDef OID=\"race___4\" Name=\"race___4\" DataType=\"boolean\" Length=\"1\" redcap:Variable=\"race\" redcap:FieldType=\"checkbox\" redcap:FieldNote=\"Study participants should self-report race, with race being asked about after ethnicity. Check all that apply.\">\\n\\t\\t<Question><TranslatedText>What is the race of the subject?</TranslatedText></Question>\\n\\t\\t<CodeListRef CodeListOID=\"race___4.choices\"/>\\n\\t</ItemDef>\\n\\t<ItemDef OID=\"race___5\" Name=\"race___5\" DataType=\"boolean\" Length=\"1\" redcap:Variable=\"race\" redcap:FieldType=\"checkbox\" redcap:FieldNote=\"Study participants should self-report race, with race being asked about after ethnicity. Check all that apply.\">\\n\\t\\t<Question><TranslatedText>What is the race of the subject?</TranslatedText></Question>\\n\\t\\t<CodeListRef CodeListOID=\"race___5.choices\"/>\\n\\t</ItemDef>\\n\\t<ItemDef OID=\"race___1\" Name=\"race___1\" DataType=\"boolean\" Length=\"1\" redcap:Variable=\"race\" redcap:FieldType=\"checkbox\" redcap:FieldNote=\"Study participants should self-report race, with race being asked about after ethnicity. Check all that apply.\">\\n\\t\\t<Question><TranslatedText>What is the race of the subject?</TranslatedText></Question>\\n\\t\\t<CodeListRef CodeListOID=\"race___1.choices\"/>\\n\\t</ItemDef>\\n\\t<ItemDef OID=\"race___2\" Name=\"race___2\" DataType=\"boolean\" Length=\"1\" redcap:Variable=\"race\" redcap:FieldType=\"checkbox\" redcap:FieldNote=\"Study participants should self-report race, with race being asked about after ethnicity. Check all that apply.\">\\n\\t\\t<Question><TranslatedText>What is the race of the subject?</TranslatedText></Question>\\n\\t\\t<CodeListRef CodeListOID=\"race___2.choices\"/>\\n\\t</ItemDef>\\n\\t<ItemDef OID=\"race___3\" Name=\"race___3\" DataType=\"boolean\" Length=\"1\" redcap:Variable=\"race\" redcap:FieldType=\"checkbox\" redcap:FieldNote=\"Study participants should self-report race, with race being asked about after ethnicity. Check all that apply.\">\\n\\t\\t<Question><TranslatedText>What is the race of the subject?</TranslatedText></Question>\\n\\t\\t<CodeListRef CodeListOID=\"race___3.choices\"/>\\n\\t</ItemDef>\\n\\t<ItemDef OID=\"race___4\" Name=\"race___4\" DataType=\"boolean\" Length=\"1\" redcap:Variable=\"race\" redcap:FieldType=\"checkbox\" redcap:FieldNote=\"Study participants should self-report race, with race being asked about after ethnicity. Check all that apply.\">\\n\\t\\t<Question><TranslatedText>What is the race of the subject?</TranslatedText></Question>\\n\\t\\t<CodeListRef CodeListOID=\"race___4.choices\"/>\\n\\t</ItemDef>\\n\\t<ItemDef OID=\"race___5\" Name=\"race___5\" DataType=\"boolean\" Length=\"1\" redcap:Variable=\"race\" redcap:FieldType=\"checkbox\" redcap:FieldNote=\"Study participants should self-report race, with race being asked about after ethnicity. Check all that apply.\">\\n\\t\\t<Question><TranslatedText>What is the race of the subject?</TranslatedText></Question>\\n\\t\\t<CodeListRef CodeListOID=\"race___5.choices\"/>\\n\\t</ItemDef>\\n\\t<ItemDef OID=\"race___1\" Name=\"race___1\" DataType=\"boolean\" Length=\"1\" redcap:Variable=\"race\" redcap:FieldType=\"checkbox\" redcap:FieldNote=\"Study participants should self-report race, with race being asked about after ethnicity. Check all that apply.\">\\n\\t\\t<Question><TranslatedText>What is the race of the subject?</TranslatedText></Question>\\n\\t\\t<CodeListRef CodeListOID=\"race___1.choices\"/>\\n\\t</ItemDef>\\n\\t<ItemDef OID=\"race___2\" Name=\"race___2\" DataType=\"boolean\" Length=\"1\" redcap:Variable=\"race\" redcap:FieldType=\"checkbox\" redcap:FieldNote=\"Study participants should self-report race, with race being asked about after ethnicity. Check all that apply.\">\\n\\t\\t<Question><TranslatedText>What is the race of the subject?</TranslatedText></Question>\\n\\t\\t<CodeListRef CodeListOID=\"race___2.choices\"/>\\n\\t</ItemDef>\\n\\t<ItemDef OID=\"race___3\" Name=\"race___3\" DataType=\"boolean\" Length=\"1\" redcap:Variable=\"race\" redcap:FieldType=\"checkbox\" redcap:FieldNote=\"Study participants should self-report race, with race being asked about after ethnicity. Check all that apply.\">\\n\\t\\t<Question><TranslatedText>What is the race of the subject?</TranslatedText></Question>\\n\\t\\t<CodeListRef CodeListOID=\"race___3.choices\"/>\\n\\t</ItemDef>\\n\\t<ItemDef OID=\"race___4\" Name=\"race___4\" DataType=\"boolean\" Length=\"1\" redcap:Variable=\"race\" redcap:FieldType=\"checkbox\" redcap:FieldNote=\"Study participants should self-report race, with race being asked about after ethnicity. Check all that apply.\">\\n\\t\\t<Question><TranslatedText>What is the race of the subject?</TranslatedText></Question>\\n\\t\\t<CodeListRef CodeListOID=\"race___4.choices\"/>\\n\\t</ItemDef>\\n\\t<ItemDef OID=\"race___5\" Name=\"race___5\" DataType=\"boolean\" Length=\"1\" redcap:Variable=\"race\" redcap:FieldType=\"checkbox\" redcap:FieldNote=\"Study participants should self-report race, with race being asked about after ethnicity. Check all that apply.\">\\n\\t\\t<Question><TranslatedText>What is the race of the subject?</TranslatedText></Question>\\n\\t\\t<CodeListRef CodeListOID=\"race___5.choices\"/>\\n\\t</ItemDef>\\n\\t<ItemDef OID=\"race___1\" Name=\"race___1\" DataType=\"boolean\" Length=\"1\" redcap:Variable=\"race\" redcap:FieldType=\"checkbox\" redcap:FieldNote=\"Study participants should self-report race, with race being asked about after ethnicity. Check all that apply.\">\\n\\t\\t<Question><TranslatedText>What is the race of the subject?</TranslatedText></Question>\\n\\t\\t<CodeListRef CodeListOID=\"race___1.choices\"/>\\n\\t</ItemDef>\\n\\t<ItemDef OID=\"race___2\" Name=\"race___2\" DataType=\"boolean\" Length=\"1\" redcap:Variable=\"race\" redcap:FieldType=\"checkbox\" redcap:FieldNote=\"Study participants should self-report race, with race being asked about after ethnicity. Check all that apply.\">\\n\\t\\t<Question><TranslatedText>What is the race of the subject?</TranslatedText></Question>\\n\\t\\t<CodeListRef CodeListOID=\"race___2.choices\"/>\\n\\t</ItemDef>\\n\\t<ItemDef OID=\"race___3\" Name=\"race___3\" DataType=\"boolean\" Length=\"1\" redcap:Variable=\"race\" redcap:FieldType=\"checkbox\" redcap:FieldNote=\"Study participants should self-report race, with race being asked about after ethnicity. Check all that apply.\">\\n\\t\\t<Question><TranslatedText>What is the race of the subject?</TranslatedText></Question>\\n\\t\\t<CodeListRef CodeListOID=\"race___3.choices\"/>\\n\\t</ItemDef>\\n\\t<ItemDef OID=\"race___4\" Name=\"race___4\" DataType=\"boolean\" Length=\"1\" redcap:Variable=\"race\" redcap:FieldType=\"checkbox\" redcap:FieldNote=\"Study participants should self-report race, with race being asked about after ethnicity. Check all that apply.\">\\n\\t\\t<Question><TranslatedText>What is the race of the subject?</TranslatedText></Question>\\n\\t\\t<CodeListRef CodeListOID=\"race___4.choices\"/>\\n\\t</ItemDef>\\n\\t<ItemDef OID=\"race___5\" Name=\"race___5\" DataType=\"boolean\" Length=\"1\" redcap:Variable=\"race\" redcap:FieldType=\"checkbox\" redcap:FieldNote=\"Study participants should self-report race, with race being asked about after ethnicity. Check all that apply.\">\\n\\t\\t<Question><TranslatedText>What is the race of the subject?</TranslatedText></Question>\\n\\t\\t<CodeListRef CodeListOID=\"race___5.choices\"/>\\n\\t</ItemDef>\\n\\t<ItemDef OID=\"race___1\" Name=\"race___1\" DataType=\"boolean\" Length=\"1\" redcap:Variable=\"race\" redcap:FieldType=\"checkbox\" redcap:FieldNote=\"Study participants should self-report race, with race being asked about after ethnicity. Check all that apply.\">\\n\\t\\t<Question><TranslatedText>What is the race of the subject?</TranslatedText></Question>\\n\\t\\t<CodeListRef CodeListOID=\"race___1.choices\"/>\\n\\t</ItemDef>\\n\\t<ItemDef OID=\"race___2\" Name=\"race___2\" DataType=\"boolean\" Length=\"1\" redcap:Variable=\"race\" redcap:FieldType=\"checkbox\" redcap:FieldNote=\"Study participants should self-report race, with race being asked about after ethnicity. Check all that apply.\">\\n\\t\\t<Question><TranslatedText>What is the race of the subject?</TranslatedText></Question>\\n\\t\\t<CodeListRef CodeListOID=\"race___2.choices\"/>\\n\\t</ItemDef>\\n\\t<ItemDef OID=\"race___3\" Name=\"race___3\" DataType=\"boolean\" Length=\"1\" redcap:Variable=\"race\" redcap:FieldType=\"checkbox\" redcap:FieldNote=\"Study participants should self-report race, with race being asked about after ethnicity. Check all that apply.\">\\n\\t\\t<Question><TranslatedText>What is the race of the subject?</TranslatedText></Question>\\n\\t\\t<CodeListRef CodeListOID=\"race___3.choices\"/>\\n\\t</ItemDef>\\n\\t<ItemDef OID=\"race___4\" Name=\"race___4\" DataType=\"boolean\" Length=\"1\" redcap:Variable=\"race\" redcap:FieldType=\"checkbox\" redcap:FieldNote=\"Study participants should self-report race, with race being asked about after ethnicity. Check all that apply.\">\\n\\t\\t<Question><TranslatedText>What is the race of the subject?</TranslatedText></Question>\\n\\t\\t<CodeListRef CodeListOID=\"race___4.choices\"/>\\n\\t</ItemDef>\\n\\t<ItemDef OID=\"race___5\" Name=\"race___5\" DataType=\"boolean\" Length=\"1\" redcap:Variable=\"race\" redcap:FieldType=\"checkbox\" redcap:FieldNote=\"Study participants should self-report race, with race being asked about after ethnicity. Check all that apply.\">\\n\\t\\t<Question><TranslatedText>What is the race of the subject?</TranslatedText></Question>\\n\\t\\t<CodeListRef CodeListOID=\"race___5.choices\"/>\\n\\t</ItemDef>\\n\\t<ItemDef OID=\"dmdat\" Name=\"dmdat\" DataType=\"date\" Length=\"999\" redcap:Variable=\"dmdat\" redcap:FieldType=\"text\" redcap:TextValidationType=\"date_dmy\" redcap:FieldNote=\"Record the date the demographics data were collected using the DD-MM-YYYY format.\">\\n\\t\\t<Question><TranslatedText>What is the date of collection?</TranslatedText></Question>\\n\\t</ItemDef>\\n\\t<ItemDef OID=\"registration_complete\" Name=\"registration_complete\" DataType=\"text\" Length=\"1\" redcap:Variable=\"registration_complete\" redcap:FieldType=\"select\" redcap:SectionHeader=\"Form Status\">\\n\\t\\t<Question><TranslatedText>Complete?</TranslatedText></Question>\\n\\t\\t<CodeListRef CodeListOID=\"registration_complete.choices\"/>\\n\\t</ItemDef>\\n\\t<ItemDef OID=\"consent_date\" Name=\"consent_date\" DataType=\"date\" Length=\"999\" redcap:Variable=\"consent_date\" redcap:FieldType=\"text\" redcap:TextValidationType=\"date_ymd\" redcap:RequiredField=\"y\">\\n\\t\\t<Question><TranslatedText>Consent Date</TranslatedText></Question>\\n\\t</ItemDef>\\n\\t<ItemDef OID=\"consent_sig\" Name=\"consent_sig\" DataType=\"text\" Length=\"999\" redcap:Variable=\"consent_sig\" redcap:FieldType=\"file\" redcap:TextValidationType=\"signature\">\\n\\t\\t<Question><TranslatedText>Consent signature</TranslatedText></Question>\\n\\t</ItemDef>\\n\\t<ItemDef OID=\"consent_scan\" Name=\"consent_scan\" DataType=\"text\" Length=\"999\" redcap:Variable=\"consent_scan\" redcap:FieldType=\"file\">\\n\\t\\t<Question><TranslatedText>Consent scan</TranslatedText></Question>\\n\\t</ItemDef>\\n\\t<ItemDef OID=\"consent_by\" Name=\"consent_by\" DataType=\"text\" Length=\"999\" redcap:Variable=\"consent_by\" redcap:FieldType=\"file\" redcap:TextValidationType=\"signature\" redcap:FieldNote=\"Name of study personnel obtaining signature\">\\n\\t\\t<Question><TranslatedText>Consented by</TranslatedText></Question>\\n\\t</ItemDef>\\n\\t<ItemDef OID=\"econsent_complete\" Name=\"econsent_complete\" DataType=\"text\" Length=\"1\" redcap:Variable=\"econsent_complete\" redcap:FieldType=\"select\" redcap:SectionHeader=\"Form Status\">\\n\\t\\t<Question><TranslatedText>Complete?</TranslatedText></Question>\\n\\t\\t<CodeListRef CodeListOID=\"econsent_complete.choices\"/>\\n\\t</ItemDef>\\n\\t<CodeList OID=\"sex.choices\" Name=\"sex\" DataType=\"text\" redcap:Variable=\"sex\">\\n\\t\\t<CodeListItem CodedValue=\"1\"><Decode><TranslatedText>Female</TranslatedText></Decode></CodeListItem>\\n\\t\\t<CodeListItem CodedValue=\"2\"><Decode><TranslatedText>Male</TranslatedText></Decode></CodeListItem>\\n\\t\\t<CodeListItem CodedValue=\"3\"><Decode><TranslatedText>Undifferentiated</TranslatedText></Decode></CodeListItem>\\n\\t\\t<CodeListItem CodedValue=\"99\"><Decode><TranslatedText>Unknown</TranslatedText></Decode></CodeListItem>\\n\\t</CodeList>\\n\\t<CodeList OID=\"ethnic.choices\" Name=\"ethnic\" DataType=\"text\" redcap:Variable=\"ethnic\">\\n\\t\\t<CodeListItem CodedValue=\"1\"><Decode><TranslatedText>Hispanic or Latino</TranslatedText></Decode></CodeListItem>\\n\\t\\t<CodeListItem CodedValue=\"2\"><Decode><TranslatedText>Not Hispanic or Latino</TranslatedText></Decode></CodeListItem>\\n\\t</CodeList>\\n\\t<CodeList OID=\"race___1.choices\" Name=\"race___1\" DataType=\"boolean\" redcap:Variable=\"race\" redcap:CheckboxChoices=\"1, Black or African American | 2, American Indian or Alaska Native | 3, Asian | 4, Native Hawaiian or Other Pacific Islander | 5, White\">\\n\\t\\t<CodeListItem CodedValue=\"1\"><Decode><TranslatedText>Checked</TranslatedText></Decode></CodeListItem>\\n\\t\\t<CodeListItem CodedValue=\"0\"><Decode><TranslatedText>Unchecked</TranslatedText></Decode></CodeListItem>\\n\\t</CodeList>\\n\\t<CodeList OID=\"race___2.choices\" Name=\"race___2\" DataType=\"boolean\" redcap:Variable=\"race\" redcap:CheckboxChoices=\"1, Black or African American | 2, American Indian or Alaska Native | 3, Asian | 4, Native Hawaiian or Other Pacific Islander | 5, White\">\\n\\t\\t<CodeListItem CodedValue=\"1\"><Decode><TranslatedText>Checked</TranslatedText></Decode></CodeListItem>\\n\\t\\t<CodeListItem CodedValue=\"0\"><Decode><TranslatedText>Unchecked</TranslatedText></Decode></CodeListItem>\\n\\t</CodeList>\\n\\t<CodeList OID=\"race___3.choices\" Name=\"race___3\" DataType=\"boolean\" redcap:Variable=\"race\" redcap:CheckboxChoices=\"1, Black or African American | 2, American Indian or Alaska Native | 3, Asian | 4, Native Hawaiian or Other Pacific Islander | 5, White\">\\n\\t\\t<CodeListItem CodedValue=\"1\"><Decode><TranslatedText>Checked</TranslatedText></Decode></CodeListItem>\\n\\t\\t<CodeListItem CodedValue=\"0\"><Decode><TranslatedText>Unchecked</TranslatedText></Decode></CodeListItem>\\n\\t</CodeList>\\n\\t<CodeList OID=\"race___4.choices\" Name=\"race___4\" DataType=\"boolean\" redcap:Variable=\"race\" redcap:CheckboxChoices=\"1, Black or African American | 2, American Indian or Alaska Native | 3, Asian | 4, Native Hawaiian or Other Pacific Islander | 5, White\">\\n\\t\\t<CodeListItem CodedValue=\"1\"><Decode><TranslatedText>Checked</TranslatedText></Decode></CodeListItem>\\n\\t\\t<CodeListItem CodedValue=\"0\"><Decode><TranslatedText>Unchecked</TranslatedText></Decode></CodeListItem>\\n\\t</CodeList>\\n\\t<CodeList OID=\"race___5.choices\" Name=\"race___5\" DataType=\"boolean\" redcap:Variable=\"race\" redcap:CheckboxChoices=\"1, Black or African American | 2, American Indian or Alaska Native | 3, Asian | 4, Native Hawaiian or Other Pacific Islander | 5, White\">\\n\\t\\t<CodeListItem CodedValue=\"1\"><Decode><TranslatedText>Checked</TranslatedText></Decode></CodeListItem>\\n\\t\\t<CodeListItem CodedValue=\"0\"><Decode><TranslatedText>Unchecked</TranslatedText></Decode></CodeListItem>\\n\\t</CodeList>\\n\\t<CodeList OID=\"race___1.choices\" Name=\"race___1\" DataType=\"boolean\" redcap:Variable=\"race\" redcap:CheckboxChoices=\"1, Black or African American | 2, American Indian or Alaska Native | 3, Asian | 4, Native Hawaiian or Other Pacific Islander | 5, White\">\\n\\t\\t<CodeListItem CodedValue=\"1\"><Decode><TranslatedText>Checked</TranslatedText></Decode></CodeListItem>\\n\\t\\t<CodeListItem CodedValue=\"0\"><Decode><TranslatedText>Unchecked</TranslatedText></Decode></CodeListItem>\\n\\t</CodeList>\\n\\t<CodeList OID=\"race___2.choices\" Name=\"race___2\" DataType=\"boolean\" redcap:Variable=\"race\" redcap:CheckboxChoices=\"1, Black or African American | 2, American Indian or Alaska Native | 3, Asian | 4, Native Hawaiian or Other Pacific Islander | 5, White\">\\n\\t\\t<CodeListItem CodedValue=\"1\"><Decode><TranslatedText>Checked</TranslatedText></Decode></CodeListItem>\\n\\t\\t<CodeListItem CodedValue=\"0\"><Decode><TranslatedText>Unchecked</TranslatedText></Decode></CodeListItem>\\n\\t</CodeList>\\n\\t<CodeList OID=\"race___3.choices\" Name=\"race___3\" DataType=\"boolean\" redcap:Variable=\"race\" redcap:CheckboxChoices=\"1, Black or African American | 2, American Indian or Alaska Native | 3, Asian | 4, Native Hawaiian or Other Pacific Islander | 5, White\">\\n\\t\\t<CodeListItem CodedValue=\"1\"><Decode><TranslatedText>Checked</TranslatedText></Decode></CodeListItem>\\n\\t\\t<CodeListItem CodedValue=\"0\"><Decode><TranslatedText>Unchecked</TranslatedText></Decode></CodeListItem>\\n\\t</CodeList>\\n\\t<CodeList OID=\"race___4.choices\" Name=\"race___4\" DataType=\"boolean\" redcap:Variable=\"race\" redcap:CheckboxChoices=\"1, Black or African American | 2, American Indian or Alaska Native | 3, Asian | 4, Native Hawaiian or Other Pacific Islander | 5, White\">\\n\\t\\t<CodeListItem CodedValue=\"1\"><Decode><TranslatedText>Checked</TranslatedText></Decode></CodeListItem>\\n\\t\\t<CodeListItem CodedValue=\"0\"><Decode><TranslatedText>Unchecked</TranslatedText></Decode></CodeListItem>\\n\\t</CodeList>\\n\\t<CodeList OID=\"race___5.choices\" Name=\"race___5\" DataType=\"boolean\" redcap:Variable=\"race\" redcap:CheckboxChoices=\"1, Black or African American | 2, American Indian or Alaska Native | 3, Asian | 4, Native Hawaiian or Other Pacific Islander | 5, White\">\\n\\t\\t<CodeListItem CodedValue=\"1\"><Decode><TranslatedText>Checked</TranslatedText></Decode></CodeListItem>\\n\\t\\t<CodeListItem CodedValue=\"0\"><Decode><TranslatedText>Unchecked</TranslatedText></Decode></CodeListItem>\\n\\t</CodeList>\\n\\t<CodeList OID=\"race___1.choices\" Name=\"race___1\" DataType=\"boolean\" redcap:Variable=\"race\" redcap:CheckboxChoices=\"1, Black or African American | 2, American Indian or Alaska Native | 3, Asian | 4, Native Hawaiian or Other Pacific Islander | 5, White\">\\n\\t\\t<CodeListItem CodedValue=\"1\"><Decode><TranslatedText>Checked</TranslatedText></Decode></CodeListItem>\\n\\t\\t<CodeListItem CodedValue=\"0\"><Decode><TranslatedText>Unchecked</TranslatedText></Decode></CodeListItem>\\n\\t</CodeList>\\n\\t<CodeList OID=\"race___2.choices\" Name=\"race___2\" DataType=\"boolean\" redcap:Variable=\"race\" redcap:CheckboxChoices=\"1, Black or African American | 2, American Indian or Alaska Native | 3, Asian | 4, Native Hawaiian or Other Pacific Islander | 5, White\">\\n\\t\\t<CodeListItem CodedValue=\"1\"><Decode><TranslatedText>Checked</TranslatedText></Decode></CodeListItem>\\n\\t\\t<CodeListItem CodedValue=\"0\"><Decode><TranslatedText>Unchecked</TranslatedText></Decode></CodeListItem>\\n\\t</CodeList>\\n\\t<CodeList OID=\"race___3.choices\" Name=\"race___3\" DataType=\"boolean\" redcap:Variable=\"race\" redcap:CheckboxChoices=\"1, Black or African American | 2, American Indian or Alaska Native | 3, Asian | 4, Native Hawaiian or Other Pacific Islander | 5, White\">\\n\\t\\t<CodeListItem CodedValue=\"1\"><Decode><TranslatedText>Checked</TranslatedText></Decode></CodeListItem>\\n\\t\\t<CodeListItem CodedValue=\"0\"><Decode><TranslatedText>Unchecked</TranslatedText></Decode></CodeListItem>\\n\\t</CodeList>\\n\\t<CodeList OID=\"race___4.choices\" Name=\"race___4\" DataType=\"boolean\" redcap:Variable=\"race\" redcap:CheckboxChoices=\"1, Black or African American | 2, American Indian or Alaska Native | 3, Asian | 4, Native Hawaiian or Other Pacific Islander | 5, White\">\\n\\t\\t<CodeListItem CodedValue=\"1\"><Decode><TranslatedText>Checked</TranslatedText></Decode></CodeListItem>\\n\\t\\t<CodeListItem CodedValue=\"0\"><Decode><TranslatedText>Unchecked</TranslatedText></Decode></CodeListItem>\\n\\t</CodeList>\\n\\t<CodeList OID=\"race___5.choices\" Name=\"race___5\" DataType=\"boolean\" redcap:Variable=\"race\" redcap:CheckboxChoices=\"1, Black or African American | 2, American Indian or Alaska Native | 3, Asian | 4, Native Hawaiian or Other Pacific Islander | 5, White\">\\n\\t\\t<CodeListItem CodedValue=\"1\"><Decode><TranslatedText>Checked</TranslatedText></Decode></CodeListItem>\\n\\t\\t<CodeListItem CodedValue=\"0\"><Decode><TranslatedText>Unchecked</TranslatedText></Decode></CodeListItem>\\n\\t</CodeList>\\n\\t<CodeList OID=\"race___1.choices\" Name=\"race___1\" DataType=\"boolean\" redcap:Variable=\"race\" redcap:CheckboxChoices=\"1, Black or African American | 2, American Indian or Alaska Native | 3, Asian | 4, Native Hawaiian or Other Pacific Islander | 5, White\">\\n\\t\\t<CodeListItem CodedValue=\"1\"><Decode><TranslatedText>Checked</TranslatedText></Decode></CodeListItem>\\n\\t\\t<CodeListItem CodedValue=\"0\"><Decode><TranslatedText>Unchecked</TranslatedText></Decode></CodeListItem>\\n\\t</CodeList>\\n\\t<CodeList OID=\"race___2.choices\" Name=\"race___2\" DataType=\"boolean\" redcap:Variable=\"race\" redcap:CheckboxChoices=\"1, Black or African American | 2, American Indian or Alaska Native | 3, Asian | 4, Native Hawaiian or Other Pacific Islander | 5, White\">\\n\\t\\t<CodeListItem CodedValue=\"1\"><Decode><TranslatedText>Checked</TranslatedText></Decode></CodeListItem>\\n\\t\\t<CodeListItem CodedValue=\"0\"><Decode><TranslatedText>Unchecked</TranslatedText></Decode></CodeListItem>\\n\\t</CodeList>\\n\\t<CodeList OID=\"race___3.choices\" Name=\"race___3\" DataType=\"boolean\" redcap:Variable=\"race\" redcap:CheckboxChoices=\"1, Black or African American | 2, American Indian or Alaska Native | 3, Asian | 4, Native Hawaiian or Other Pacific Islander | 5, White\">\\n\\t\\t<CodeListItem CodedValue=\"1\"><Decode><TranslatedText>Checked</TranslatedText></Decode></CodeListItem>\\n\\t\\t<CodeListItem CodedValue=\"0\"><Decode><TranslatedText>Unchecked</TranslatedText></Decode></CodeListItem>\\n\\t</CodeList>\\n\\t<CodeList OID=\"race___4.choices\" Name=\"race___4\" DataType=\"boolean\" redcap:Variable=\"race\" redcap:CheckboxChoices=\"1, Black or African American | 2, American Indian or Alaska Native | 3, Asian | 4, Native Hawaiian or Other Pacific Islander | 5, White\">\\n\\t\\t<CodeListItem CodedValue=\"1\"><Decode><TranslatedText>Checked</TranslatedText></Decode></CodeListItem>\\n\\t\\t<CodeListItem CodedValue=\"0\"><Decode><TranslatedText>Unchecked</TranslatedText></Decode></CodeListItem>\\n\\t</CodeList>\\n\\t<CodeList OID=\"race___5.choices\" Name=\"race___5\" DataType=\"boolean\" redcap:Variable=\"race\" redcap:CheckboxChoices=\"1, Black or African American | 2, American Indian or Alaska Native | 3, Asian | 4, Native Hawaiian or Other Pacific Islander | 5, White\">\\n\\t\\t<CodeListItem CodedValue=\"1\"><Decode><TranslatedText>Checked</TranslatedText></Decode></CodeListItem>\\n\\t\\t<CodeListItem CodedValue=\"0\"><Decode><TranslatedText>Unchecked</TranslatedText></Decode></CodeListItem>\\n\\t</CodeList>\\n\\t<CodeList OID=\"race___1.choices\" Name=\"race___1\" DataType=\"boolean\" redcap:Variable=\"race\" redcap:CheckboxChoices=\"1, Black or African American | 2, American Indian or Alaska Native | 3, Asian | 4, Native Hawaiian or Other Pacific Islander | 5, White\">\\n\\t\\t<CodeListItem CodedValue=\"1\"><Decode><TranslatedText>Checked</TranslatedText></Decode></CodeListItem>\\n\\t\\t<CodeListItem CodedValue=\"0\"><Decode><TranslatedText>Unchecked</TranslatedText></Decode></CodeListItem>\\n\\t</CodeList>\\n\\t<CodeList OID=\"race___2.choices\" Name=\"race___2\" DataType=\"boolean\" redcap:Variable=\"race\" redcap:CheckboxChoices=\"1, Black or African American | 2, American Indian or Alaska Native | 3, Asian | 4, Native Hawaiian or Other Pacific Islander | 5, White\">\\n\\t\\t<CodeListItem CodedValue=\"1\"><Decode><TranslatedText>Checked</TranslatedText></Decode></CodeListItem>\\n\\t\\t<CodeListItem CodedValue=\"0\"><Decode><TranslatedText>Unchecked</TranslatedText></Decode></CodeListItem>\\n\\t</CodeList>\\n\\t<CodeList OID=\"race___3.choices\" Name=\"race___3\" DataType=\"boolean\" redcap:Variable=\"race\" redcap:CheckboxChoices=\"1, Black or African American | 2, American Indian or Alaska Native | 3, Asian | 4, Native Hawaiian or Other Pacific Islander | 5, White\">\\n\\t\\t<CodeListItem CodedValue=\"1\"><Decode><TranslatedText>Checked</TranslatedText></Decode></CodeListItem>\\n\\t\\t<CodeListItem CodedValue=\"0\"><Decode><TranslatedText>Unchecked</TranslatedText></Decode></CodeListItem>\\n\\t</CodeList>\\n\\t<CodeList OID=\"race___4.choices\" Name=\"race___4\" DataType=\"boolean\" redcap:Variable=\"race\" redcap:CheckboxChoices=\"1, Black or African American | 2, American Indian or Alaska Native | 3, Asian | 4, Native Hawaiian or Other Pacific Islander | 5, White\">\\n\\t\\t<CodeListItem CodedValue=\"1\"><Decode><TranslatedText>Checked</TranslatedText></Decode></CodeListItem>\\n\\t\\t<CodeListItem CodedValue=\"0\"><Decode><TranslatedText>Unchecked</TranslatedText></Decode></CodeListItem>\\n\\t</CodeList>\\n\\t<CodeList OID=\"race___5.choices\" Name=\"race___5\" DataType=\"boolean\" redcap:Variable=\"race\" redcap:CheckboxChoices=\"1, Black or African American | 2, American Indian or Alaska Native | 3, Asian | 4, Native Hawaiian or Other Pacific Islander | 5, White\">\\n\\t\\t<CodeListItem CodedValue=\"1\"><Decode><TranslatedText>Checked</TranslatedText></Decode></CodeListItem>\\n\\t\\t<CodeListItem CodedValue=\"0\"><Decode><TranslatedText>Unchecked</TranslatedText></Decode></CodeListItem>\\n\\t</CodeList>\\n\\t<CodeList OID=\"registration_complete.choices\" Name=\"registration_complete\" DataType=\"text\" redcap:Variable=\"registration_complete\">\\n\\t\\t<CodeListItem CodedValue=\"0\"><Decode><TranslatedText>Incomplete</TranslatedText></Decode></CodeListItem>\\n\\t\\t<CodeListItem CodedValue=\"1\"><Decode><TranslatedText>Unverified</TranslatedText></Decode></CodeListItem>\\n\\t\\t<CodeListItem CodedValue=\"2\"><Decode><TranslatedText>Complete</TranslatedText></Decode></CodeListItem>\\n\\t</CodeList>\\n\\t<CodeList OID=\"econsent_complete.choices\" Name=\"econsent_complete\" DataType=\"text\" redcap:Variable=\"econsent_complete\">\\n\\t\\t<CodeListItem CodedValue=\"0\"><Decode><TranslatedText>Incomplete</TranslatedText></Decode></CodeListItem>\\n\\t\\t<CodeListItem CodedValue=\"1\"><Decode><TranslatedText>Unverified</TranslatedText></Decode></CodeListItem>\\n\\t\\t<CodeListItem CodedValue=\"2\"><Decode><TranslatedText>Complete</TranslatedText></Decode></CodeListItem>\\n\\t</CodeList>\\n</MetaDataVersion>\\n</Study>\\n<ClinicalData StudyOID=\"Project.HelloWorldTemplate\" MetaDataVersionOID=\"Metadata.HelloWorldTemplate_2016-12-21_0947\">\\n</ClinicalData>\\n</ODM>'"
      ]
     },
     "execution_count": 26,
     "metadata": {},
     "output_type": "execute_result"
    }
   ],
   "source": [
    "data = dict({\n",
    "    'content': 'project_xml',\n",
    "    'token': mytoken,\n",
    "})\n",
    "\n",
    "r = requests.post(apiurl,data=data)\n",
    "r.text"
   ]
  }
 ],
 "metadata": {
  "anaconda-cloud": {},
  "kernelspec": {
   "display_name": "Python [conda env:cdsi_rc_metaprojects]",
   "language": "python",
   "name": "conda-env-cdsi_rc_metaprojects-py"
  },
  "language_info": {
   "codemirror_mode": {
    "name": "ipython",
    "version": 3
   },
   "file_extension": ".py",
   "mimetype": "text/x-python",
   "name": "python",
   "nbconvert_exporter": "python",
   "pygments_lexer": "ipython3",
   "version": "3.5.2"
  }
 },
 "nbformat": 4,
 "nbformat_minor": 2
}
